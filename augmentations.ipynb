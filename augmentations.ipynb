{
 "cells": [
  {
   "cell_type": "code",
   "execution_count": null,
   "id": "62549241-4d4e-41f6-a683-4c62ba15a1b8",
   "metadata": {},
   "outputs": [],
   "source": [
    "# Импортирование модулей\n",
    "import albumentations as A\n",
    "import cv2\n",
    "import os\n",
    "import matplotlib.pyplot as plt\n",
    "import numpy as np"
   ]
  },
  {
   "cell_type": "code",
   "execution_count": null,
   "id": "08503079-35db-4270-b606-e2477185712f",
   "metadata": {},
   "outputs": [],
   "source": [
    "def synt_gereration(real_img_fullpath, real_msk_fullpath, cfg):\n",
    "    '''\n",
    "    Генерирует изображение с дополнительными пятнами.\n",
    "    Parameters\n",
    "    ----------\n",
    "    real_img_fullpath : str\n",
    "        Путь к папке с набором картинок.\n",
    "    real_msk_fullpath : str\n",
    "        Путь к папке с набором масок.\n",
    "    cfg : dict\n",
    "        Настройка параметров генерации.\n",
    "\n",
    "    Returns\n",
    "    -------\n",
    "    synt_img : numpy.ndarray\n",
    "        Сгенерированное изображение.\n",
    "    synt_msk : numpy.ndarray\n",
    "        Маска по сгенерированному изображению.\n",
    "    '''\n",
    "    img = cv2.imread(real_img_fullpath)[:,:,::-1]\n",
    "    msk = cv2.imread(real_msk_fullpath)[:,:,::-1]\n",
    "    (h, w, c) = img.shape\n",
    "    \n",
    "    # main synt generation\n",
    "    List_of_Drops, label_map  = generate_label(h, w, cfg)\n",
    "    synt_img, _, synt_msk = generateDrops(real_img_fullpath, cfg, List_of_Drops)\n",
    "    \n",
    "    # pill-image to numpy-image\n",
    "    synt_img = np.array(synt_img)\n",
    "    synt_msk = np.array(synt_msk)\n",
    "    \n",
    "    # почему-то иногда генерируется маска (h,w,3), но в основном - (h,w)\n",
    "    if len(synt_msk.shape)==3: \n",
    "        synt_msk = synt_msk[:,:,0]\n",
    "    synt_msk = np.stack((synt_msk,)*3, axis=-1)\n",
    "    \n",
    "    # совмещение реальной маски и синтетической\n",
    "    # (чтобы синтетику можно было генерить и на грязных кадрах)\n",
    "    synt_msk = (((msk>0).astype(int)+(synt_msk>0).astype(int))>0).astype(np.uint8)*255\n",
    "\n",
    "    return synt_img, synt_msk"
   ]
  },
  {
   "cell_type": "code",
   "execution_count": null,
   "id": "dee163ea-7b47-4b4a-abee-40d88f5b9bfe",
   "metadata": {},
   "outputs": [],
   "source": [
    "# Пути\n",
    "real_img_path = 'train_dataset/cv_open_dataset/open_img/'\n",
    "real_msk_path = 'train_dataset/cv_open_dataset/open_msk/'\n",
    "res_img_path = 'train_dataset/augmentations/augm_img/'\n",
    "res_msk_path = 'train_dataset/augmentations/augm_msk/'\n",
    "imgs = os.listdir(real_img_path)"
   ]
  },
  {
   "cell_type": "code",
   "execution_count": null,
   "id": "bdfaadee-fbc1-4939-b281-ae4f993aab2b",
   "metadata": {},
   "outputs": [],
   "source": [
    "# Преобразования\n",
    "augm_crop = A.Compose([\n",
    "    A.RandomCrop(width=640, height=360, p=1),\n",
    "    A.ToGray(p=0.1),\n",
    "    A.MultiplicativeNoise()\n",
    "])\n",
    "augm_rot = A.Compose([\n",
    "    A.Rotate(p=1),\n",
    "    A.MultiplicativeNoise(),\n",
    "    A.ToGray(p=0.1)\n",
    "])\n",
    "augm_hflip = A.Compose([\n",
    "    A.HorizontalFlip(p=1),\n",
    "    A.MultiplicativeNoise(),\n",
    "    A.RandomBrightnessContrast(brightness_limit=0.1)\n",
    "])\n",
    "augm_vflip = A.Compose([\n",
    "    A.VerticalFlip(p=1),\n",
    "    A.MultiplicativeNoise(),\n",
    "    A.RandomBrightnessContrast(brightness_limit=0.1)\n",
    "])"
   ]
  },
  {
   "cell_type": "code",
   "execution_count": null,
   "id": "d4ccb130-814b-4fb8-ac03-46473459c7ba",
   "metadata": {},
   "outputs": [],
   "source": [
    "# Пример\n",
    "img = cv2.imread(real_img_path+imgs[0])[:,:,::-1]\n",
    "msk = cv2.imread(real_msk_path+msks[0])[:,:,::-1]\n",
    "res = augm_crop(image=img, mask=msk)\n",
    "plt.figure(figsize=(10,10))\n",
    "plt.imshow(np.concatenate([res['image'], res['mask']], axis=1))"
   ]
  },
  {
   "cell_type": "code",
   "execution_count": null,
   "id": "6dd0408e-453e-42fa-b955-bd640ac64321",
   "metadata": {},
   "outputs": [],
   "source": [
    "# Генерация аугментированных изображений\n",
    "for i in range(len(imgs)):\n",
    "\n",
    "    print(i,end=' ')\n",
    "    img = cv2.imread(real_img_path+imgs[i])[:,:,::-1]\n",
    "    msk = cv2.imread(real_msk_path+imgs[i][:-4]+'.png')[:,:,::-1]\n",
    "\n",
    "    for n in range(5):\n",
    "        res = augm_crop(image=img, mask=msk)\n",
    "        cv2.imwrite(res_img_path+'crop'+str(n)+'_'+imgs[i], res['image'])\n",
    "        cv2.imwrite(res_msk_path+'crop'+str(n)+'_'+imgs[i][:-4]+'.png', res['mask'])\n",
    "\n",
    "        res = augm_rot(image=img, mask=msk)\n",
    "        cv2.imwrite(res_img_path+'rot'+str(n)+'_'+imgs[i], res['image'])\n",
    "        cv2.imwrite(res_msk_path+'rot'+str(n)+'_'+imgs[i][:-4]+'.png', res['mask'])\n",
    "\n",
    "        res = augm_hflip(image=img, mask=msk)\n",
    "        cv2.imwrite(res_img_path+'hflip'+str(n)+'_'+imgs[i], res['image'])\n",
    "        cv2.imwrite(res_msk_path+'hflip'+str(n)+'_'+imgs[i][:-4]+'.png', res['mask'])\n",
    "\n",
    "        res = augm_vflip(image=img, mask=msk)\n",
    "        cv2.imwrite(res_img_path+'vflip'+str(n)+'_'+imgs[i], res['image'])\n",
    "        cv2.imwrite(res_msk_path+'vflip'+str(n)+'_'+imgs[i][:-4]+'.png', res['mask'])\n"
   ]
  },
  {
   "cell_type": "code",
   "execution_count": null,
   "id": "192ee6da-21ef-4694-8b89-d78208e51287",
   "metadata": {},
   "outputs": [],
   "source": [
    "# Импортирование raindrop\n",
    "from raindrop.config import cfg\n",
    "from raindrop.dropgenerator import generate_label, generateDrops"
   ]
  },
  {
   "cell_type": "code",
   "execution_count": null,
   "id": "ab0310d7-fdc6-4559-bd15-b77b5981e93a",
   "metadata": {},
   "outputs": [],
   "source": [
    "syaugm_img_path = 'train_dataset/augm_synt/augm_img/'\n",
    "syaugm_msk_path = 'train_dataset/augm_synt/augm_msk/'\n",
    "cfg['maxR'] = 100\n",
    "augms = os.listdir(res_img_path)"
   ]
  },
  {
   "cell_type": "code",
   "execution_count": null,
   "id": "add9635e-2064-4031-8457-76bb59747d75",
   "metadata": {},
   "outputs": [],
   "source": [
    "# Генерация пятен на изображениях с аугментациями\n",
    "for i in range(len(augms)):\n",
    "\n",
    "    print(i, end=' ')\n",
    "    img = cv2.imread(res_img_path+augms[i])[:,:,::-1]\n",
    "    msk = cv2.imread(res_msk_path+augms[i][:-4]+'.png')[:,:,::-1]\n",
    "\n",
    "    synt_img,synt_msk = synt_gereration(res_img_path+augms[i], res_msk_path+augms[i][:-4]+'.png', cfg)\n",
    "    cv2.imwrite(syaugm_img_path+'sy'+augms[i], synt_img[:,:,::-1])\n",
    "    cv2.imwrite(syaugm_msk_path+'sy'+augms[i][:-4]+'.png', synt_msk[:,:,::-1])"
   ]
  },
  {
   "cell_type": "code",
   "execution_count": null,
   "id": "1d78dc62-29a3-41b4-93de-a2621082a733",
   "metadata": {},
   "outputs": [],
   "source": []
  }
 ],
 "metadata": {
  "kernelspec": {
   "display_name": "Python 3 (ipykernel)",
   "language": "python",
   "name": "python3"
  },
  "language_info": {
   "codemirror_mode": {
    "name": "ipython",
    "version": 3
   },
   "file_extension": ".py",
   "mimetype": "text/x-python",
   "name": "python",
   "nbconvert_exporter": "python",
   "pygments_lexer": "ipython3",
   "version": "3.12.4"
  }
 },
 "nbformat": 4,
 "nbformat_minor": 5
}
