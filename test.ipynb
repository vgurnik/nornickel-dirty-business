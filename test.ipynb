{
 "cells": [
  {
   "cell_type": "code",
   "execution_count": 1,
   "id": "39c90d5b-206a-44f7-9b04-fb106e9b64d9",
   "metadata": {},
   "outputs": [],
   "source": [
    "from main import process_image\n",
    "import matplotlib.pyplot as plt\n",
    "import numpy as np"
   ]
  },
  {
   "cell_type": "code",
   "execution_count": null,
   "id": "3c22d0b0-947a-4bcc-97cd-fe8f27e5b01a",
   "metadata": {},
   "outputs": [
    {
     "name": "stdout",
     "output_type": "stream",
     "text": [
      "\n",
      "0: 384x640 1 contaminated, 335.3ms\n",
      "Speed: 0.0ms preprocess, 335.3ms inference, 0.0ms postprocess per image at shape (1, 3, 384, 640)\n",
      "Степень загрязнения:  0.0006335509471437296\n"
     ]
    },
    {
     "data": {
      "text/plain": [
       "<matplotlib.image.AxesImage at 0x254ad5b05c0>"
      ]
     },
     "execution_count": 2,
     "metadata": {},
     "output_type": "execute_result"
    }
   ],
   "source": [
    "img = plt.imread('test/1709875661_0.jpg')\n",
    "mask, degree = process_image(img, 'best.pt')\n",
    "mask = np.stack([np.zeros_like(mask), np.zeros_like(mask), mask]).transpose(1,2,0)\n",
    "print(\"Степень загрязнения: \", degree)\n",
    "plt.figure(figsize=(15,10))\n",
    "plt.imshow(np.concatenate([img, mask, img//3*2+mask//3], axis=1))"
   ]
  },
  {
   "cell_type": "code",
   "execution_count": null,
   "id": "cfa0df81-177b-45bc-8e98-f4195e2fa5f7",
   "metadata": {},
   "outputs": [],
   "source": [
    "img = plt.imread('test/1709870253_0.jpg')\n",
    "mask, degree = process_image(img, 'best.pt')\n",
    "mask = np.stack([np.zeros_like(mask), np.zeros_like(mask), mask]).transpose(1,2,0)\n",
    "print(\"Степень загрязнения: \", degree)\n",
    "plt.figure(figsize=(15,10))\n",
    "plt.imshow(np.concatenate([img, mask, img//3*2+mask//3], axis=1))"
   ]
  },
  {
   "cell_type": "code",
   "execution_count": null,
   "id": "c4e1cba2-c639-4e74-b7ed-8c6b7c304502",
   "metadata": {},
   "outputs": [],
   "source": [
    "img = plt.imread('test/1710271653_0.jpg')\n",
    "mask, degree = process_image(img, 'best.pt')\n",
    "mask = np.stack([np.zeros_like(mask), np.zeros_like(mask), mask]).transpose(1,2,0)\n",
    "print(\"Степень загрязнения: \", degree)\n",
    "plt.figure(figsize=(15,10))\n",
    "plt.imshow(np.concatenate([img, mask, img//3*2+mask//3], axis=1))"
   ]
  },
  {
   "cell_type": "code",
   "execution_count": null,
   "id": "70bc8279-9361-47d6-83f1-dd96bc4b22ba",
   "metadata": {},
   "outputs": [],
   "source": []
  }
 ],
 "metadata": {
  "kernelspec": {
   "display_name": "Python 3 (ipykernel)",
   "language": "python",
   "name": "python3"
  },
  "language_info": {
   "codemirror_mode": {
    "name": "ipython",
    "version": 3
   },
   "file_extension": ".py",
   "mimetype": "text/x-python",
   "name": "python",
   "nbconvert_exporter": "python",
   "pygments_lexer": "ipython3",
   "version": "3.12.4"
  }
 },
 "nbformat": 4,
 "nbformat_minor": 5
}
